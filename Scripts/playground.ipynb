{
 "cells": [
  {
   "cell_type": "markdown",
   "id": "0d967969",
   "metadata": {},
   "source": [
    "# Inférence de L'IA"
   ]
  },
  {
   "cell_type": "code",
   "execution_count": 1,
   "id": "eee215ee",
   "metadata": {},
   "outputs": [
    {
     "name": "stdout",
     "output_type": "stream",
     "text": [
      "torch: 2.8.0+cu128\n"
     ]
    }
   ],
   "source": [
    "import torch\n",
    "\n",
    "print(\"torch:\", torch.__version__)"
   ]
  },
  {
   "cell_type": "markdown",
   "id": "1dd34225",
   "metadata": {},
   "source": [
    "#### Le modèle du multilayer perceptron (MLP)"
   ]
  },
  {
   "cell_type": "code",
   "execution_count": 37,
   "id": "137159b8",
   "metadata": {},
   "outputs": [],
   "source": [
    "\n",
    "\n",
    "class MLP(torch.nn.Module):\n",
    "    def __init__(self, input_size, hidden_size, output_size):\n",
    "        super(MLP, self).__init__()\n",
    "        self.dropout = torch.nn.Dropout(p=0.1)\n",
    "        self.fc1 = torch.nn.Linear(input_size, hidden_size)\n",
    "        self.relu = torch.nn.ReLU()\n",
    "        self.fc2 = torch.nn.Linear(hidden_size, output_size)\n",
    "        self.softmax = torch.nn.Softmax(dim=1)\n",
    "\n",
    "    def forward(self, x):\n",
    "        out = self.dropout(x)\n",
    "        out = self.fc1(out)\n",
    "        out = self.relu(out)\n",
    "        out = self.fc2(out)\n",
    "        out = self.softmax(out)\n",
    "        return out\n",
    "\n",
    "\n"
   ]
  },
  {
   "cell_type": "code",
   "execution_count": 43,
   "id": "738f2593",
   "metadata": {},
   "outputs": [
    {
     "name": "stdout",
     "output_type": "stream",
     "text": [
      "NumPy version: 1.24.3\n",
      "Librosa version: 0.10.1\n",
      "✅ All libraries imported successfully!\n",
      "(13, 134)\n"
     ]
    }
   ],
   "source": [
    "# IMPORTANT: Run this cell ONLY after restarting the kernel!\n",
    "# Kernel -> Restart Kernel, then run this cell\n",
    "\n",
    "import librosa\n",
    "import numpy as np\n",
    "import matplotlib.pyplot as plt\n",
    "\n",
    "print(f\"NumPy version: {np.__version__}\")\n",
    "print(f\"Librosa version: {librosa.__version__}\")\n",
    "\n",
    "PATH_FOLDER = \"../data/archive/DATASET_OF_VOWELS/\"\n",
    "\n",
    "def extract_features(file_path, folder_path=PATH_FOLDER, n_mfcc=13, n_fft=2048, hop_length=512):\n",
    "    y, sr = librosa.load(folder_path + file_path, sr=None)\n",
    "    mfccs = librosa.feature.mfcc(y=y, sr=sr, n_mfcc=n_mfcc, n_fft=n_fft, hop_length=hop_length)\n",
    "    return mfccs\n",
    "\n",
    "print(\"✅ All libraries imported successfully!\")\n",
    "\n",
    "# Test with a sample file\n",
    "\n",
    "mffc = extract_features(\"he_1_ (70).wav\")\n",
    "\n",
    "print(mffc.shape)\n",
    "\n"
   ]
  },
  {
   "cell_type": "code",
   "execution_count": 44,
   "id": "8c1ecc7e",
   "metadata": {},
   "outputs": [],
   "source": [
    "# train_data\n",
    "\n",
    "list_vowels_training = ['a', 'e', 'i', 'o', 'u']\n",
    "list_speaker_training = np.arange(1, 4)\n",
    "list_numbers_training = np.arange(1, 37)\n",
    "\n",
    "# test_data\n",
    "\n",
    "list_vowels_testing = ['a', 'e', 'i', 'o', 'u']\n",
    "list_speaker_testing = np.arange(1, 4)\n",
    "list_numbers_testing = np.arange(45, 70)\n"
   ]
  },
  {
   "cell_type": "markdown",
   "id": "f412663f",
   "metadata": {},
   "source": [
    "### Training"
   ]
  },
  {
   "cell_type": "code",
   "execution_count": null,
   "id": "d4712aed",
   "metadata": {},
   "outputs": [
    {
     "name": "stdout",
     "output_type": "stream",
     "text": [
      "Epoch [10/300], Loss: 1.7048 accuracy: 20.00%\n",
      "Epoch [20/300], Loss: 1.7030 accuracy: 20.19%\n",
      "Epoch [30/300], Loss: 1.7030 accuracy: 20.19%\n",
      "Epoch [40/300], Loss: 1.7048 accuracy: 20.00%\n",
      "Epoch [50/300], Loss: 1.7012 accuracy: 20.37%\n",
      "Epoch [60/300], Loss: 1.7048 accuracy: 20.00%\n",
      "Epoch [70/300], Loss: 1.7029 accuracy: 20.19%\n",
      "Epoch [80/300], Loss: 1.6428 accuracy: 26.30%\n",
      "Epoch [90/300], Loss: 1.5369 accuracy: 36.85%\n",
      "Epoch [100/300], Loss: 1.5250 accuracy: 37.96%\n",
      "Epoch [110/300], Loss: 1.5410 accuracy: 36.48%\n",
      "Epoch [120/300], Loss: 1.5135 accuracy: 39.07%\n",
      "Epoch [130/300], Loss: 1.5139 accuracy: 39.07%\n",
      "Epoch [140/300], Loss: 1.5064 accuracy: 39.81%\n",
      "Epoch [150/300], Loss: 1.5178 accuracy: 38.70%\n",
      "Epoch [160/300], Loss: 1.5104 accuracy: 39.44%\n",
      "Epoch [170/300], Loss: 1.5062 accuracy: 39.81%\n",
      "Epoch [180/300], Loss: 1.5117 accuracy: 39.26%\n",
      "Epoch [190/300], Loss: 1.5102 accuracy: 39.44%\n",
      "Epoch [200/300], Loss: 1.5102 accuracy: 39.44%\n",
      "Epoch [210/300], Loss: 1.5065 accuracy: 39.81%\n",
      "Epoch [220/300], Loss: 1.5080 accuracy: 39.63%\n",
      "Epoch [230/300], Loss: 1.5078 accuracy: 39.63%\n",
      "Epoch [240/300], Loss: 1.5080 accuracy: 39.63%\n",
      "Epoch [250/300], Loss: 1.5083 accuracy: 39.63%\n",
      "Epoch [260/300], Loss: 1.5119 accuracy: 39.26%\n",
      "Epoch [270/300], Loss: 1.5138 accuracy: 39.07%\n",
      "Epoch [280/300], Loss: 1.5120 accuracy: 39.26%\n",
      "Epoch [290/300], Loss: 1.5119 accuracy: 39.26%\n",
      "Epoch [300/300], Loss: 1.5138 accuracy: 39.07%\n",
      "✅ Entraînement terminé !\n"
     ]
    }
   ],
   "source": [
    "\n",
    "X_train = []\n",
    "y_train = []\n",
    "\n",
    "for vowel in list_vowels_training:\n",
    "    for speaker in list_speaker_training:\n",
    "        for number in list_numbers_training:\n",
    "            filename = f\"h{vowel}_{speaker}_ ({number}).wav\"\n",
    "            mfcc = extract_features(filename)\n",
    "            feature_vector = np.mean(mfcc, axis=1)\n",
    "            X_train.append(feature_vector)\n",
    "            y_train.append(list_vowels_training.index(vowel))\n",
    "\n",
    "X_train = np.array(X_train)\n",
    "y_train = np.array(y_train)\n",
    "\n",
    "X_train_tensor = torch.tensor(X_train, dtype=torch.float32)\n",
    "y_train_tensor = torch.tensor(y_train, dtype=torch.long)\n",
    "\n"
   ]
  },
  {
   "cell_type": "code",
   "execution_count": null,
   "id": "11f316e6",
   "metadata": {},
   "outputs": [
    {
     "name": "stdout",
     "output_type": "stream",
     "text": [
      "Epoch [10/300], Loss: 1.6786 accuracy: 22.41%\n",
      "Epoch [20/300], Loss: 1.6705 accuracy: 22.78%\n",
      "Epoch [30/300], Loss: 1.5242 accuracy: 37.78%\n",
      "Epoch [40/300], Loss: 1.4988 accuracy: 40.37%\n",
      "Epoch [50/300], Loss: 1.4780 accuracy: 42.04%\n",
      "Epoch [60/300], Loss: 1.4443 accuracy: 45.56%\n",
      "Epoch [70/300], Loss: 1.4344 accuracy: 47.41%\n",
      "Epoch [80/300], Loss: 1.4252 accuracy: 47.59%\n",
      "Epoch [90/300], Loss: 1.3967 accuracy: 51.11%\n",
      "Epoch [100/300], Loss: 1.3988 accuracy: 50.00%\n",
      "Epoch [110/300], Loss: 1.3554 accuracy: 55.37%\n",
      "Epoch [120/300], Loss: 1.2988 accuracy: 60.74%\n",
      "Epoch [130/300], Loss: 1.2810 accuracy: 62.04%\n",
      "Epoch [140/300], Loss: 1.1549 accuracy: 74.63%\n",
      "Epoch [150/300], Loss: 1.1141 accuracy: 79.44%\n",
      "Epoch [160/300], Loss: 1.0960 accuracy: 81.48%\n",
      "Epoch [170/300], Loss: 1.0935 accuracy: 80.56%\n",
      "Epoch [180/300], Loss: 1.0937 accuracy: 81.67%\n",
      "Epoch [190/300], Loss: 1.0781 accuracy: 83.15%\n",
      "Epoch [200/300], Loss: 1.0841 accuracy: 82.59%\n",
      "Epoch [210/300], Loss: 1.0788 accuracy: 83.89%\n",
      "Epoch [220/300], Loss: 1.0740 accuracy: 83.52%\n",
      "Epoch [230/300], Loss: 1.0824 accuracy: 82.41%\n",
      "Epoch [240/300], Loss: 1.0863 accuracy: 81.67%\n",
      "Epoch [250/300], Loss: 1.0968 accuracy: 81.67%\n",
      "Epoch [260/300], Loss: 1.0686 accuracy: 84.07%\n",
      "Epoch [270/300], Loss: 1.0681 accuracy: 84.26%\n",
      "Epoch [280/300], Loss: 1.0385 accuracy: 87.22%\n",
      "Epoch [290/300], Loss: 1.0497 accuracy: 85.56%\n",
      "Epoch [300/300], Loss: 1.0662 accuracy: 84.07%\n",
      "✅ Entraînement terminé !\n"
     ]
    }
   ],
   "source": [
    "input_size = X_train.shape[1]\n",
    "hidden_size = 64\n",
    "output_size = len(list_vowels_training)\n",
    "mlp_model = MLP(input_size, hidden_size, output_size)\n",
    "\n",
    "criterion = torch.nn.CrossEntropyLoss()\n",
    "optimizer = torch.optim.Adam(mlp_model.parameters(), lr=0.0005)\n",
    "\n",
    "num_epochs = 200\n",
    "for epoch in range(num_epochs):\n",
    "    optimizer.zero_grad()\n",
    "    outputs = mlp_model(X_train_tensor)\n",
    "    loss = criterion(outputs, y_train_tensor)\n",
    "    loss.backward()\n",
    "    optimizer.step()\n",
    "    if (epoch+1) % 10 == 0:\n",
    "        print(f\"Epoch [{epoch+1}/{num_epochs}], Loss: {loss.item():.4f} accuracy: {100 * (outputs.argmax(dim=1) == y_train_tensor).float().mean().item():.2f}%\")\n",
    "\n",
    "print(\"✅ Entraînement terminé !\")"
   ]
  },
  {
   "cell_type": "code",
   "execution_count": 63,
   "id": "0ebfee37",
   "metadata": {},
   "outputs": [
    {
     "name": "stdout",
     "output_type": "stream",
     "text": [
      "(63974,)\n"
     ]
    },
    {
     "data": {
      "text/plain": [
       "[<matplotlib.lines.Line2D at 0x704af15ba5d0>]"
      ]
     },
     "execution_count": 63,
     "metadata": {},
     "output_type": "execute_result"
    },
    {
     "data": {
      "image/png": "[encoded data removed]",
      "text/plain": [
       "<Figure size 640x480 with 1 Axes>"
      ]
     },
     "metadata": {},
     "output_type": "display_data"
    }
   ],
   "source": [
    "### check \n",
    "\n",
    "\n",
    "data = PATH_FOLDER + \"he_1_ (1).wav\"\n",
    "\n",
    "signal = librosa.load(data, sr=None)[0]\n",
    "\n",
    "print(signal.shape)\n",
    "plt.plot(signal)"
   ]
  }
 ],
 "metadata": {
  "kernelspec": {
   "display_name": "audio_env",
   "language": "python",
   "name": "python3"
  },
  "language_info": {
   "codemirror_mode": {
    "name": "ipython",
    "version": 3
   },
   "file_extension": ".py",
   "mimetype": "text/x-python",
   "name": "python",
   "nbconvert_exporter": "python",
   "pygments_lexer": "ipython3",
   "version": "3.11.13"
  }
 },
 "nbformat": 4,
 "nbformat_minor": 5
}
